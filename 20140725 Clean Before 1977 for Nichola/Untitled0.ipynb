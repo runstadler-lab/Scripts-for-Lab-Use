{
 "metadata": {
  "name": "",
  "signature": "sha256:dd72b83de72bd629d82a24460a597a3c23caad3845a61e1cf6c45471e223be9e"
 },
 "nbformat": 3,
 "nbformat_minor": 0,
 "worksheets": [
  {
   "cells": [
    {
     "cell_type": "code",
     "collapsed": false,
     "input": [
      "from Bio import SeqIO"
     ],
     "language": "python",
     "metadata": {},
     "outputs": [],
     "prompt_number": 1
    },
    {
     "cell_type": "code",
     "collapsed": false,
     "input": [
      "sequences = list(SeqIO.parse('Vuong_NP_nucleotide_alignment.nex', 'nexus'))"
     ],
     "language": "python",
     "metadata": {},
     "outputs": [],
     "prompt_number": 18
    },
    {
     "cell_type": "code",
     "collapsed": false,
     "input": [
      "sequences\n",
      "print len(sequences)"
     ],
     "language": "python",
     "metadata": {},
     "outputs": [
      {
       "output_type": "stream",
       "stream": "stdout",
       "text": [
        "8098\n"
       ]
      }
     ],
     "prompt_number": 27
    },
    {
     "cell_type": "code",
     "collapsed": false,
     "input": [
      "new_sequences = []\n",
      "for sequence in sequences:\n",
      "    year = sequence.id.split('|')[-1]\n",
      "    if len(year) == 10 or len(year) == 7:\n",
      "        if int(year.split('/')[-1]) >= 1977:\n",
      "            new_sequences.append(sequence)\n",
      "    if len(year) == 4:\n",
      "        if int(year) >= 1977:\n",
      "            new_sequences.append(sequence)\n",
      "            \n",
      "print len(new_sequences)"
     ],
     "language": "python",
     "metadata": {},
     "outputs": [
      {
       "output_type": "stream",
       "stream": "stdout",
       "text": [
        "7983\n"
       ]
      }
     ],
     "prompt_number": 26
    },
    {
     "cell_type": "code",
     "collapsed": false,
     "input": [
      "SeqIO.write(new_sequences, 'Vuong_NP_nucleotide_alignment_cleaned.nex', 'nexus')"
     ],
     "language": "python",
     "metadata": {},
     "outputs": [
      {
       "metadata": {},
       "output_type": "pyout",
       "prompt_number": 28,
       "text": [
        "7983"
       ]
      }
     ],
     "prompt_number": 28
    },
    {
     "cell_type": "code",
     "collapsed": false,
     "input": [],
     "language": "python",
     "metadata": {},
     "outputs": []
    }
   ],
   "metadata": {}
  }
 ]
}