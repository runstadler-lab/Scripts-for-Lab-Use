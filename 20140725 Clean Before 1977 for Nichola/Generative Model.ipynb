{
 "metadata": {
  "name": "",
  "signature": "sha256:891184fab66780cb89e419c7837e56902e466546f6db8fa3bb0e33933beda88e"
 },
 "nbformat": 3,
 "nbformat_minor": 0,
 "worksheets": [
  {
   "cells": [
    {
     "cell_type": "code",
     "collapsed": false,
     "input": [
      "class Agent(object):\n",
      "    \"\"\"\n",
      "    A generic agent that plays a game.\n",
      "    \"\"\"\n",
      "    \n",
      "    def __init__(self, starting_state):\n",
      "        \n",
      "        super(Agent, self).__init__()\n",
      "        \"\"\"\n",
      "        Inputs:\n",
      "        - starting_state: either 0 or 1.\n",
      "        \n",
      "        Attributes:\n",
      "        - change_state: either True or False\n",
      "            - if True: at the next time step, current state will change from 1 to 0 or 0 to 1.\n",
      "            - if False: at the next time step, current state will not change.\n",
      "            \n",
      "        - current_state: either 0 or 1\n",
      "        \"\"\"\n",
      "        self.starting_state = starting_state\n",
      "        self.change_state = False\n",
      "        self.current_state = starting_state\n",
      "        \n",
      "    def __repr__(self):\n",
      "        return str(self.current_state)"
     ],
     "language": "python",
     "metadata": {},
     "outputs": [],
     "prompt_number": 1
    },
    {
     "cell_type": "code",
     "collapsed": false,
     "input": [
      "a = Agent(starting_state=1)\n",
      "b = Agent(0)\n",
      "print a, b"
     ],
     "language": "python",
     "metadata": {},
     "outputs": [
      {
       "output_type": "stream",
       "stream": "stdout",
       "text": [
        "1 0\n"
       ]
      }
     ],
     "prompt_number": 2
    },
    {
     "cell_type": "code",
     "collapsed": false,
     "input": [
      "not False"
     ],
     "language": "python",
     "metadata": {},
     "outputs": [
      {
       "metadata": {},
       "output_type": "pyout",
       "prompt_number": 3,
       "text": [
        "True"
       ]
      }
     ],
     "prompt_number": 3
    },
    {
     "cell_type": "code",
     "collapsed": false,
     "input": [
      "def set_current_state(agent):\n",
      "    \"\"\"\n",
      "    This function flips the current_state of the agent.\n",
      "    \"\"\"\n",
      "    if agent.change_state == True:\n",
      "        agent.current_state = 1 - agent.current_state\n",
      "    else:\n",
      "        pass\n",
      "    \n",
      "from random import random\n",
      "\n",
      "def flip_change_state(agent):\n",
      "    \"\"\"\n",
      "    This function flips the change_state of the agent.\n",
      "    \"\"\"\n",
      "    agent.change_state = not agent.change_state\n",
      "    \n",
      "def compute_new_change_states(winner_agent, loser_agent):\n",
      "    \"\"\"\n",
      "    This function computes the new change_state of the agent.\n",
      "    \"\"\"\n",
      "    rnd = random()\n",
      "    # If the agent won, and its change_state is \"stay\", then the probability of switching to \"change\" decision is 0.1\n",
      "    if winner_agent.change_state == False: #i.e. it is in \"stay\" mode\n",
      "        if rnd > 0.6:\n",
      "            flip_change_state(winner_agent)\n",
      "    # If the agent won, and its change_state is \"change\", then the probability of switching to \"stay\" decision is 0.9\n",
      "    if winner_agent.change_state == True: #i.e. it is in \"change\" mode\n",
      "        if rnd <= 0.4:\n",
      "            flip_change_state(winner_agent)\n",
      "            \n",
      "    rnd = random()\n",
      "    # If the agent lost, and its change_state is \"stay\", then the probability of switching to \"change\" decision is 0.9\n",
      "    if loser_agent.change_state == False:\n",
      "        if rnd <= 0.6:\n",
      "            flip_change_state(loser_agent)\n",
      "    # If the agent lost, and its change_state is \"change\", then the probability of switching to \"stay\" decision is 0.1\n",
      "    if loser_agent.change_state == True:\n",
      "        if rnd > 0.4:\n",
      "            flip_change_state(loser_agent)"
     ],
     "language": "python",
     "metadata": {},
     "outputs": [],
     "prompt_number": 4
    },
    {
     "cell_type": "code",
     "collapsed": false,
     "input": [
      "num_runs = 20\n",
      "\n",
      "# Initialize the arrays for recording data\n",
      "a_states = np.zeros(num_runs)\n",
      "b_states = np.zeros(num_runs)\n",
      "\n",
      "# Run the game\n",
      "for i in xrange(num_runs):\n",
      "    a_states[i] = a.current_state\n",
      "    b_states[i] = b.current_state\n",
      "    if a.current_state == b.current_state:\n",
      "        compute_new_change_states(a, b)\n",
      "    if b.current_state != a.current_state:\n",
      "        compute_new_change_states(b, a)\n",
      "    set_current_state(a)\n",
      "    set_current_state(b)\n",
      "\n",
      "plt.plot(a_states)\n",
      "plt.plot(b_states)"
     ],
     "language": "python",
     "metadata": {},
     "outputs": [
      {
       "metadata": {},
       "output_type": "pyout",
       "prompt_number": 5,
       "text": [
        "[<matplotlib.lines.Line2D at 0x1059c6ed0>]"
       ]
      },
      {
       "metadata": {},
       "output_type": "display_data",
       "png": "[encoded data removed]",
       "text": [
        "<matplotlib.figure.Figure at 0x1059be390>"
       ]
      }
     ],
     "prompt_number": 5
    },
    {
     "cell_type": "code",
     "collapsed": false,
     "input": [
      "import pandas as pd\n",
      "pd.DataFrame(np.array([a_states,b_states]).T).corr()"
     ],
     "language": "python",
     "metadata": {},
     "outputs": [
      {
       "html": [
        "<div style=\"max-height:1000px;max-width:1500px;overflow:auto;\">\n",
        "<table border=\"1\" class=\"dataframe\">\n",
        "  <thead>\n",
        "    <tr style=\"text-align: right;\">\n",
        "      <th></th>\n",
        "      <th>0</th>\n",
        "      <th>1</th>\n",
        "    </tr>\n",
        "  </thead>\n",
        "  <tbody>\n",
        "    <tr>\n",
        "      <th>0</th>\n",
        "      <td> 1.000000e+00</td>\n",
        "      <td> 1.133117e-17</td>\n",
        "    </tr>\n",
        "    <tr>\n",
        "      <th>1</th>\n",
        "      <td> 1.133117e-17</td>\n",
        "      <td> 1.000000e+00</td>\n",
        "    </tr>\n",
        "  </tbody>\n",
        "</table>\n",
        "</div>"
       ],
       "metadata": {},
       "output_type": "pyout",
       "prompt_number": 6,
       "text": [
        "              0             1\n",
        "0  1.000000e+00  1.133117e-17\n",
        "1  1.133117e-17  1.000000e+00"
       ]
      }
     ],
     "prompt_number": 6
    },
    {
     "cell_type": "code",
     "collapsed": false,
     "input": [
      "# hidden_states = ['stay', 'change']\n",
      "\n",
      "# import numpy as np\n",
      "# from random import random\n",
      "\n",
      "# mutate_probs = np.array([[0.1, 0.9], \\ \n",
      "#                          [0.1, 0.9]])\n",
      "\n",
      "# no_mut_probs = np.array([[0.9, 0.1], \\\n",
      "#                          [0.9, 0.1]])\n",
      "\n",
      "# # Specify number of runs\n",
      "# runs = 50\n",
      "\n",
      "# # Initialize the states records as zeros array\n",
      "# a_states = np.zeros(runs)\n",
      "# b_states = np.zeros(runs)\n",
      "\n",
      "# # Initialize the changes records as zeros array\n",
      "# # 1 = \"change\"\n",
      "# # 0 = \"stay\"\n",
      "# a_changes = np.zeros(runs)\n",
      "# b_changes = np.zeros(runs)\n",
      "\n",
      "# # Initialize the current states as \"1\" for both.\n",
      "# current_a = 1\n",
      "# current_b = 1\n",
      "\n",
      "# # Initialize the current change states as False for both.\n",
      "# current_change_a = False\n",
      "# current_change_b = False\n",
      "\n",
      "# transition_matrix_favor_stay = dict()\n",
      "# transition_matrix_favor_stay['stay'] = dict()\n",
      "# transition_matrix_favor_stay['change'] = dict()\n",
      "# transition_matrix_favor_stay['stay']['stay'] = 0.9\n",
      "# transition_matrix_favor_stay['stay']['change'] = 0.1\n",
      "# transition_matrix_favor_stay['change']['stay'] = 0.9\n",
      "# transition_matrix_favor_stay['change']['change'] = 0.1\n",
      "\n",
      "# transition_matrix_favor_change = dict()\n",
      "# transition_matrix_favor_change['stay'] = dict()\n",
      "# transition_matrix_favor_change['change'] = dict()\n",
      "# transition_matrix_favor_change['stay']['stay'] = 0.1\n",
      "# transition_matrix_favor_change['stay']['change'] = 0.9\n",
      "# transition_matrix_favor_change['change']['stay'] = 0.1\n",
      "# transition_matrix_favor_change['change']['change'] = 0.9\n",
      "\n",
      "\n",
      "\n",
      "\n",
      "# # At each time step: evaluate if A == B or not.\n",
      "# # If A == B: then flip a coin. \n",
      "# #   If A is currently at \"stay\", \n",
      "# #     then it continues at \"stay\" with 0.9 probability, or \n",
      "# #     switches to \"change\" with 0.1 probability.\n",
      "# #   If A is currently at \"change\",\n",
      "# #     then it continues at \"change\" with 0.1 probability, or \n",
      "# #     switches to \"stay\" with 0.9 probability.\n",
      "\n",
      "# if current_a == current_b:\n",
      "#     if current_change_a == False:\n",
      "#         rnd = random()\n",
      "#         if rnd <= 0.9:\n",
      "#             current_change_a = False\n",
      "#         else:\n",
      "#             current_change_a = True\n",
      "#     if current_change_a == True:\n",
      "#         rnd = random()\n",
      "#         if rnd <= 0.9:\n",
      "#             curent_change_a = False\n",
      "#         else:\n",
      "#             current_change_a = True\n",
      "            \n",
      "#     if current_change_b == False:\n",
      "#         rnd = random()\n",
      "#         if rnd <= 0.9:\n",
      "#             current_change_b = True\n",
      "#         else:\n",
      "#             current_change_b = False\n",
      "            \n",
      "#     if current_change_b == True:\n",
      "#         rnd = random()\n",
      "#         if rnd <= 0.9:\n",
      "#             current_change_b = True\n",
      "#         else:\n",
      "#             current_change_b = False"
     ],
     "language": "python",
     "metadata": {},
     "outputs": [],
     "prompt_number": 63
    },
    {
     "cell_type": "code",
     "collapsed": false,
     "input": [],
     "language": "python",
     "metadata": {},
     "outputs": []
    }
   ],
   "metadata": {}
  }
 ]
}